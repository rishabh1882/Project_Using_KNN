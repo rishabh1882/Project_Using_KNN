{
 "cells": [
  {
   "cell_type": "markdown",
   "id": "42b6cfc8",
   "metadata": {},
   "source": [
    "# KNN Model for Banglore House Price Prediction"
   ]
  },
  {
   "cell_type": "markdown",
   "id": "4ffa00fd",
   "metadata": {},
   "source": [
    "### Importing of libraries"
   ]
  },
  {
   "cell_type": "code",
   "execution_count": 1,
   "id": "3e81a041",
   "metadata": {},
   "outputs": [],
   "source": [
    "import pandas as pd\n",
    "import numpy as np\n",
    "import seaborn as sns\n",
    "import math as m\n",
    "import matplotlib.pyplot as plt\n",
    "from sklearn.model_selection import train_test_split\n",
    "from sklearn import preprocessing \n",
    "from sklearn.metrics import r2_score, mean_squared_error"
   ]
  },
  {
   "cell_type": "markdown",
   "id": "26fc7134",
   "metadata": {},
   "source": [
    "### Reading Data File"
   ]
  },
  {
   "cell_type": "code",
   "execution_count": 2,
   "id": "a3d6be8d",
   "metadata": {},
   "outputs": [],
   "source": [
    "def read_data():\n",
    "    data=pd.read_csv(\"D:/DATA SCIENCE/Asignments/Python/KNN Assignment/bangalore house price prediction OHE-data.csv\")\n",
    "    return data"
   ]
  },
  {
   "cell_type": "markdown",
   "id": "aae40d99",
   "metadata": {},
   "source": [
    "### Calling the read_data function"
   ]
  },
  {
   "cell_type": "code",
   "execution_count": 3,
   "id": "6b2d199d",
   "metadata": {},
   "outputs": [
    {
     "name": "stdout",
     "output_type": "stream",
     "text": [
      "   bath  balcony  price  total_sqft_int  bhk  price_per_sqft  \\\n",
      "0   3.0      2.0  150.0          1672.0    3     8971.291866   \n",
      "1   3.0      3.0  149.0          1750.0    3     8514.285714   \n",
      "2   3.0      2.0  150.0          1750.0    3     8571.428571   \n",
      "3   2.0      2.0   40.0          1250.0    2     3200.000000   \n",
      "4   2.0      2.0   83.0          1200.0    2     6916.666667   \n",
      "\n",
      "   area_typeSuper built-up  Area  area_typeBuilt-up  Area  \\\n",
      "0                              1                        0   \n",
      "1                              0                        1   \n",
      "2                              1                        0   \n",
      "3                              1                        0   \n",
      "4                              0                        0   \n",
      "\n",
      "   area_typePlot  Area  availability_Ready To Move  ...  \\\n",
      "0                    0                           1  ...   \n",
      "1                    0                           1  ...   \n",
      "2                    0                           1  ...   \n",
      "3                    0                           1  ...   \n",
      "4                    1                           1  ...   \n",
      "\n",
      "   location_Kalena Agrahara  location_Horamavu Agara  location_Vidyaranyapura  \\\n",
      "0                         0                        0                        0   \n",
      "1                         0                        0                        0   \n",
      "2                         0                        0                        0   \n",
      "3                         0                        0                        0   \n",
      "4                         0                        0                        0   \n",
      "\n",
      "   location_BTM 2nd Stage  location_Hebbal Kempapura  location_Hosur Road  \\\n",
      "0                       0                          0                    0   \n",
      "1                       0                          0                    0   \n",
      "2                       0                          0                    0   \n",
      "3                       0                          0                    0   \n",
      "4                       0                          0                    0   \n",
      "\n",
      "   location_Horamavu Banaswadi  location_Domlur  location_Mahadevpura  \\\n",
      "0                            0                0                     0   \n",
      "1                            0                0                     0   \n",
      "2                            0                0                     0   \n",
      "3                            0                0                     0   \n",
      "4                            0                0                     0   \n",
      "\n",
      "   location_Tumkur Road  \n",
      "0                     0  \n",
      "1                     0  \n",
      "2                     0  \n",
      "3                     0  \n",
      "4                     0  \n",
      "\n",
      "[5 rows x 108 columns]\n"
     ]
    }
   ],
   "source": [
    "data=read_data()\n",
    "print(data.head())"
   ]
  },
  {
   "cell_type": "markdown",
   "id": "ad2948aa",
   "metadata": {},
   "source": [
    "### Checking our data"
   ]
  },
  {
   "cell_type": "code",
   "execution_count": 4,
   "id": "70640382",
   "metadata": {},
   "outputs": [
    {
     "name": "stdout",
     "output_type": "stream",
     "text": [
      "(7120, 108)\n",
      "-------------------------------------------\n",
      "Index(['bath', 'balcony', 'price', 'total_sqft_int', 'bhk', 'price_per_sqft',\n",
      "       'area_typeSuper built-up  Area', 'area_typeBuilt-up  Area',\n",
      "       'area_typePlot  Area', 'availability_Ready To Move',\n",
      "       ...\n",
      "       'location_Kalena Agrahara', 'location_Horamavu Agara',\n",
      "       'location_Vidyaranyapura', 'location_BTM 2nd Stage',\n",
      "       'location_Hebbal Kempapura', 'location_Hosur Road',\n",
      "       'location_Horamavu Banaswadi', 'location_Domlur',\n",
      "       'location_Mahadevpura', 'location_Tumkur Road'],\n",
      "      dtype='object', length=108)\n",
      "-------------------------------------------\n",
      "bath                           float64\n",
      "balcony                        float64\n",
      "price                          float64\n",
      "total_sqft_int                 float64\n",
      "bhk                              int64\n",
      "                                ...   \n",
      "location_Hosur Road              int64\n",
      "location_Horamavu Banaswadi      int64\n",
      "location_Domlur                  int64\n",
      "location_Mahadevpura             int64\n",
      "location_Tumkur Road             int64\n",
      "Length: 108, dtype: object\n",
      "-------------------------------------------\n",
      "<class 'pandas.core.frame.DataFrame'>\n",
      "RangeIndex: 7120 entries, 0 to 7119\n",
      "Columns: 108 entries, bath to location_Tumkur Road\n",
      "dtypes: float64(5), int64(103)\n",
      "memory usage: 5.9 MB\n",
      "None\n"
     ]
    }
   ],
   "source": [
    "print(data.shape)\n",
    "print(\"-------------------------------------------\")\n",
    "print(data.columns)\n",
    "print(\"-------------------------------------------\")\n",
    "print(data.dtypes)\n",
    "print(\"-------------------------------------------\")\n",
    "print(data.info())"
   ]
  },
  {
   "cell_type": "code",
   "execution_count": 5,
   "id": "1ae1d5ed",
   "metadata": {},
   "outputs": [
    {
     "data": {
      "text/plain": [
       "array([2.        , 3.        , 1.        , 0.        , 1.58437574])"
      ]
     },
     "execution_count": 5,
     "metadata": {},
     "output_type": "execute_result"
    }
   ],
   "source": [
    "## Checking the unique values of dependable variables to detect any visual outliers in data\n",
    "data[\"balcony\"].unique()\n"
   ]
  },
  {
   "cell_type": "code",
   "execution_count": 6,
   "id": "8d263283",
   "metadata": {},
   "outputs": [
    {
     "data": {
      "text/plain": [
       "array([3., 2., 1., 4., 5., 9., 6., 8., 7.])"
      ]
     },
     "execution_count": 6,
     "metadata": {},
     "output_type": "execute_result"
    }
   ],
   "source": [
    "data[\"bath\"].unique()"
   ]
  },
  {
   "cell_type": "markdown",
   "id": "82758d66",
   "metadata": {},
   "source": [
    "#### Conclusion: Here we can see houses with 1.58437574 which occurs unusual"
   ]
  },
  {
   "cell_type": "code",
   "execution_count": 7,
   "id": "34623191",
   "metadata": {},
   "outputs": [
    {
     "name": "stdout",
     "output_type": "stream",
     "text": [
      "      bath   balcony    price  total_sqft_int  bhk  price_per_sqft  \\\n",
      "48     2.0  1.584376    86.00          1200.0    2     7166.666667   \n",
      "87     9.0  1.584376   500.00          4500.0    9    11111.111111   \n",
      "93     4.0  1.584376   333.00          3900.0    4     8538.461538   \n",
      "108    5.0  1.584376   110.00          2500.0    5     4400.000000   \n",
      "127    4.0  1.584376   250.00          3245.0    4     7704.160247   \n",
      "...    ...       ...      ...             ...  ...             ...   \n",
      "7074   2.0  1.584376    46.17          1200.0    2     3847.500000   \n",
      "7077   9.0  1.584376  1900.00         12000.0    8    15833.333333   \n",
      "7080   5.0  1.584376  1950.00         10000.0    5    19500.000000   \n",
      "7093   5.0  1.584376   220.00          3600.0    4     6111.111111   \n",
      "7114   6.0  1.584376   390.00          3800.0    6    10263.157895   \n",
      "\n",
      "      area_typeSuper built-up  Area  area_typeBuilt-up  Area  \\\n",
      "48                                1                        0   \n",
      "87                                0                        0   \n",
      "93                                0                        1   \n",
      "108                               1                        0   \n",
      "127                               1                        0   \n",
      "...                             ...                      ...   \n",
      "7074                              0                        1   \n",
      "7077                              0                        0   \n",
      "7080                              0                        0   \n",
      "7093                              1                        0   \n",
      "7114                              1                        0   \n",
      "\n",
      "      area_typePlot  Area  availability_Ready To Move  ...  \\\n",
      "48                      0                           1  ...   \n",
      "87                      0                           1  ...   \n",
      "93                      0                           0  ...   \n",
      "108                     0                           1  ...   \n",
      "127                     0                           1  ...   \n",
      "...                   ...                         ...  ...   \n",
      "7074                    0                           1  ...   \n",
      "7077                    1                           0  ...   \n",
      "7080                    1                           1  ...   \n",
      "7093                    0                           1  ...   \n",
      "7114                    0                           1  ...   \n",
      "\n",
      "      location_Kalena Agrahara  location_Horamavu Agara  \\\n",
      "48                           0                        0   \n",
      "87                           0                        0   \n",
      "93                           0                        0   \n",
      "108                          0                        0   \n",
      "127                          0                        0   \n",
      "...                        ...                      ...   \n",
      "7074                         0                        0   \n",
      "7077                         0                        0   \n",
      "7080                         0                        0   \n",
      "7093                         0                        0   \n",
      "7114                         0                        0   \n",
      "\n",
      "      location_Vidyaranyapura  location_BTM 2nd Stage  \\\n",
      "48                          0                       0   \n",
      "87                          0                       0   \n",
      "93                          0                       0   \n",
      "108                         0                       0   \n",
      "127                         0                       0   \n",
      "...                       ...                     ...   \n",
      "7074                        0                       0   \n",
      "7077                        0                       0   \n",
      "7080                        0                       0   \n",
      "7093                        0                       0   \n",
      "7114                        0                       0   \n",
      "\n",
      "      location_Hebbal Kempapura  location_Hosur Road  \\\n",
      "48                            0                    0   \n",
      "87                            0                    0   \n",
      "93                            0                    0   \n",
      "108                           0                    0   \n",
      "127                           0                    0   \n",
      "...                         ...                  ...   \n",
      "7074                          0                    0   \n",
      "7077                          0                    0   \n",
      "7080                          0                    0   \n",
      "7093                          0                    0   \n",
      "7114                          0                    0   \n",
      "\n",
      "      location_Horamavu Banaswadi  location_Domlur  location_Mahadevpura  \\\n",
      "48                              0                0                     0   \n",
      "87                              0                0                     0   \n",
      "93                              0                0                     0   \n",
      "108                             0                0                     0   \n",
      "127                             0                0                     0   \n",
      "...                           ...              ...                   ...   \n",
      "7074                            0                0                     0   \n",
      "7077                            0                0                     0   \n",
      "7080                            0                0                     0   \n",
      "7093                            0                0                     0   \n",
      "7114                            0                0                     0   \n",
      "\n",
      "      location_Tumkur Road  \n",
      "48                       0  \n",
      "87                       0  \n",
      "93                       0  \n",
      "108                      0  \n",
      "127                      0  \n",
      "...                    ...  \n",
      "7074                     0  \n",
      "7077                     0  \n",
      "7080                     0  \n",
      "7093                     0  \n",
      "7114                     0  \n",
      "\n",
      "[202 rows x 108 columns]\n"
     ]
    }
   ],
   "source": [
    "## Let's check the number of records with this balcony count\n",
    "balcony_error=data[(data['balcony']>1.1) & (data['balcony']<1.7)]\n",
    "print(balcony_error)"
   ]
  },
  {
   "cell_type": "code",
   "execution_count": 8,
   "id": "3b1acd22",
   "metadata": {},
   "outputs": [
    {
     "data": {
      "text/plain": [
       "2.837078651685393"
      ]
     },
     "execution_count": 8,
     "metadata": {},
     "output_type": "execute_result"
    }
   ],
   "source": [
    "## Now check that how much percent these makes up of total data \n",
    "(202/7120)*100"
   ]
  },
  {
   "cell_type": "markdown",
   "id": "a1b50e30",
   "metadata": {},
   "source": [
    "#### we can see there are around 202 records with 1.584376 no of balconies.This 202 records occupy around 2.8 percent of our data. We have total 7120 records,so lets drop this rows with errors."
   ]
  },
  {
   "cell_type": "code",
   "execution_count": 4,
   "id": "485560bd",
   "metadata": {},
   "outputs": [
    {
     "data": {
      "text/plain": [
       "(7120, 108)"
      ]
     },
     "execution_count": 4,
     "metadata": {},
     "output_type": "execute_result"
    }
   ],
   "source": [
    "## first create a copy of original data\n",
    "df=data.copy()\n",
    "df.head()\n",
    "df.shape"
   ]
  },
  {
   "cell_type": "markdown",
   "id": "37eeb2fa",
   "metadata": {},
   "source": [
    "### Dropping rows  with errors as calculated above"
   ]
  },
  {
   "cell_type": "code",
   "execution_count": 5,
   "id": "65a80f3d",
   "metadata": {},
   "outputs": [
    {
     "data": {
      "text/html": [
       "<div>\n",
       "<style scoped>\n",
       "    .dataframe tbody tr th:only-of-type {\n",
       "        vertical-align: middle;\n",
       "    }\n",
       "\n",
       "    .dataframe tbody tr th {\n",
       "        vertical-align: top;\n",
       "    }\n",
       "\n",
       "    .dataframe thead th {\n",
       "        text-align: right;\n",
       "    }\n",
       "</style>\n",
       "<table border=\"1\" class=\"dataframe\">\n",
       "  <thead>\n",
       "    <tr style=\"text-align: right;\">\n",
       "      <th></th>\n",
       "      <th>bath</th>\n",
       "      <th>balcony</th>\n",
       "      <th>price</th>\n",
       "      <th>total_sqft_int</th>\n",
       "      <th>bhk</th>\n",
       "      <th>price_per_sqft</th>\n",
       "      <th>area_typeSuper built-up  Area</th>\n",
       "      <th>area_typeBuilt-up  Area</th>\n",
       "      <th>area_typePlot  Area</th>\n",
       "      <th>availability_Ready To Move</th>\n",
       "      <th>...</th>\n",
       "      <th>location_Kalena Agrahara</th>\n",
       "      <th>location_Horamavu Agara</th>\n",
       "      <th>location_Vidyaranyapura</th>\n",
       "      <th>location_BTM 2nd Stage</th>\n",
       "      <th>location_Hebbal Kempapura</th>\n",
       "      <th>location_Hosur Road</th>\n",
       "      <th>location_Horamavu Banaswadi</th>\n",
       "      <th>location_Domlur</th>\n",
       "      <th>location_Mahadevpura</th>\n",
       "      <th>location_Tumkur Road</th>\n",
       "    </tr>\n",
       "  </thead>\n",
       "  <tbody>\n",
       "    <tr>\n",
       "      <th>0</th>\n",
       "      <td>3.0</td>\n",
       "      <td>2.0</td>\n",
       "      <td>150.00</td>\n",
       "      <td>1672.0</td>\n",
       "      <td>3</td>\n",
       "      <td>8971.291866</td>\n",
       "      <td>1</td>\n",
       "      <td>0</td>\n",
       "      <td>0</td>\n",
       "      <td>1</td>\n",
       "      <td>...</td>\n",
       "      <td>0</td>\n",
       "      <td>0</td>\n",
       "      <td>0</td>\n",
       "      <td>0</td>\n",
       "      <td>0</td>\n",
       "      <td>0</td>\n",
       "      <td>0</td>\n",
       "      <td>0</td>\n",
       "      <td>0</td>\n",
       "      <td>0</td>\n",
       "    </tr>\n",
       "    <tr>\n",
       "      <th>1</th>\n",
       "      <td>3.0</td>\n",
       "      <td>3.0</td>\n",
       "      <td>149.00</td>\n",
       "      <td>1750.0</td>\n",
       "      <td>3</td>\n",
       "      <td>8514.285714</td>\n",
       "      <td>0</td>\n",
       "      <td>1</td>\n",
       "      <td>0</td>\n",
       "      <td>1</td>\n",
       "      <td>...</td>\n",
       "      <td>0</td>\n",
       "      <td>0</td>\n",
       "      <td>0</td>\n",
       "      <td>0</td>\n",
       "      <td>0</td>\n",
       "      <td>0</td>\n",
       "      <td>0</td>\n",
       "      <td>0</td>\n",
       "      <td>0</td>\n",
       "      <td>0</td>\n",
       "    </tr>\n",
       "    <tr>\n",
       "      <th>2</th>\n",
       "      <td>3.0</td>\n",
       "      <td>2.0</td>\n",
       "      <td>150.00</td>\n",
       "      <td>1750.0</td>\n",
       "      <td>3</td>\n",
       "      <td>8571.428571</td>\n",
       "      <td>1</td>\n",
       "      <td>0</td>\n",
       "      <td>0</td>\n",
       "      <td>1</td>\n",
       "      <td>...</td>\n",
       "      <td>0</td>\n",
       "      <td>0</td>\n",
       "      <td>0</td>\n",
       "      <td>0</td>\n",
       "      <td>0</td>\n",
       "      <td>0</td>\n",
       "      <td>0</td>\n",
       "      <td>0</td>\n",
       "      <td>0</td>\n",
       "      <td>0</td>\n",
       "    </tr>\n",
       "    <tr>\n",
       "      <th>3</th>\n",
       "      <td>2.0</td>\n",
       "      <td>2.0</td>\n",
       "      <td>40.00</td>\n",
       "      <td>1250.0</td>\n",
       "      <td>2</td>\n",
       "      <td>3200.000000</td>\n",
       "      <td>1</td>\n",
       "      <td>0</td>\n",
       "      <td>0</td>\n",
       "      <td>1</td>\n",
       "      <td>...</td>\n",
       "      <td>0</td>\n",
       "      <td>0</td>\n",
       "      <td>0</td>\n",
       "      <td>0</td>\n",
       "      <td>0</td>\n",
       "      <td>0</td>\n",
       "      <td>0</td>\n",
       "      <td>0</td>\n",
       "      <td>0</td>\n",
       "      <td>0</td>\n",
       "    </tr>\n",
       "    <tr>\n",
       "      <th>4</th>\n",
       "      <td>2.0</td>\n",
       "      <td>2.0</td>\n",
       "      <td>83.00</td>\n",
       "      <td>1200.0</td>\n",
       "      <td>2</td>\n",
       "      <td>6916.666667</td>\n",
       "      <td>0</td>\n",
       "      <td>0</td>\n",
       "      <td>1</td>\n",
       "      <td>1</td>\n",
       "      <td>...</td>\n",
       "      <td>0</td>\n",
       "      <td>0</td>\n",
       "      <td>0</td>\n",
       "      <td>0</td>\n",
       "      <td>0</td>\n",
       "      <td>0</td>\n",
       "      <td>0</td>\n",
       "      <td>0</td>\n",
       "      <td>0</td>\n",
       "      <td>0</td>\n",
       "    </tr>\n",
       "    <tr>\n",
       "      <th>...</th>\n",
       "      <td>...</td>\n",
       "      <td>...</td>\n",
       "      <td>...</td>\n",
       "      <td>...</td>\n",
       "      <td>...</td>\n",
       "      <td>...</td>\n",
       "      <td>...</td>\n",
       "      <td>...</td>\n",
       "      <td>...</td>\n",
       "      <td>...</td>\n",
       "      <td>...</td>\n",
       "      <td>...</td>\n",
       "      <td>...</td>\n",
       "      <td>...</td>\n",
       "      <td>...</td>\n",
       "      <td>...</td>\n",
       "      <td>...</td>\n",
       "      <td>...</td>\n",
       "      <td>...</td>\n",
       "      <td>...</td>\n",
       "      <td>...</td>\n",
       "    </tr>\n",
       "    <tr>\n",
       "      <th>7115</th>\n",
       "      <td>3.0</td>\n",
       "      <td>2.0</td>\n",
       "      <td>325.00</td>\n",
       "      <td>2900.0</td>\n",
       "      <td>3</td>\n",
       "      <td>11206.896552</td>\n",
       "      <td>1</td>\n",
       "      <td>0</td>\n",
       "      <td>0</td>\n",
       "      <td>1</td>\n",
       "      <td>...</td>\n",
       "      <td>0</td>\n",
       "      <td>0</td>\n",
       "      <td>0</td>\n",
       "      <td>0</td>\n",
       "      <td>0</td>\n",
       "      <td>0</td>\n",
       "      <td>0</td>\n",
       "      <td>0</td>\n",
       "      <td>0</td>\n",
       "      <td>0</td>\n",
       "    </tr>\n",
       "    <tr>\n",
       "      <th>7116</th>\n",
       "      <td>3.0</td>\n",
       "      <td>1.0</td>\n",
       "      <td>84.83</td>\n",
       "      <td>1780.0</td>\n",
       "      <td>3</td>\n",
       "      <td>4765.730337</td>\n",
       "      <td>1</td>\n",
       "      <td>0</td>\n",
       "      <td>0</td>\n",
       "      <td>0</td>\n",
       "      <td>...</td>\n",
       "      <td>0</td>\n",
       "      <td>0</td>\n",
       "      <td>0</td>\n",
       "      <td>0</td>\n",
       "      <td>0</td>\n",
       "      <td>0</td>\n",
       "      <td>0</td>\n",
       "      <td>0</td>\n",
       "      <td>0</td>\n",
       "      <td>0</td>\n",
       "    </tr>\n",
       "    <tr>\n",
       "      <th>7117</th>\n",
       "      <td>2.0</td>\n",
       "      <td>1.0</td>\n",
       "      <td>48.00</td>\n",
       "      <td>880.0</td>\n",
       "      <td>2</td>\n",
       "      <td>5454.545455</td>\n",
       "      <td>0</td>\n",
       "      <td>0</td>\n",
       "      <td>1</td>\n",
       "      <td>1</td>\n",
       "      <td>...</td>\n",
       "      <td>0</td>\n",
       "      <td>0</td>\n",
       "      <td>0</td>\n",
       "      <td>0</td>\n",
       "      <td>0</td>\n",
       "      <td>0</td>\n",
       "      <td>0</td>\n",
       "      <td>0</td>\n",
       "      <td>0</td>\n",
       "      <td>0</td>\n",
       "    </tr>\n",
       "    <tr>\n",
       "      <th>7118</th>\n",
       "      <td>2.0</td>\n",
       "      <td>1.0</td>\n",
       "      <td>55.00</td>\n",
       "      <td>1000.0</td>\n",
       "      <td>2</td>\n",
       "      <td>5500.000000</td>\n",
       "      <td>0</td>\n",
       "      <td>0</td>\n",
       "      <td>1</td>\n",
       "      <td>0</td>\n",
       "      <td>...</td>\n",
       "      <td>0</td>\n",
       "      <td>0</td>\n",
       "      <td>0</td>\n",
       "      <td>0</td>\n",
       "      <td>0</td>\n",
       "      <td>0</td>\n",
       "      <td>0</td>\n",
       "      <td>0</td>\n",
       "      <td>0</td>\n",
       "      <td>0</td>\n",
       "    </tr>\n",
       "    <tr>\n",
       "      <th>7119</th>\n",
       "      <td>2.0</td>\n",
       "      <td>1.0</td>\n",
       "      <td>78.00</td>\n",
       "      <td>1400.0</td>\n",
       "      <td>3</td>\n",
       "      <td>5571.428571</td>\n",
       "      <td>0</td>\n",
       "      <td>0</td>\n",
       "      <td>1</td>\n",
       "      <td>0</td>\n",
       "      <td>...</td>\n",
       "      <td>0</td>\n",
       "      <td>0</td>\n",
       "      <td>0</td>\n",
       "      <td>0</td>\n",
       "      <td>0</td>\n",
       "      <td>0</td>\n",
       "      <td>0</td>\n",
       "      <td>0</td>\n",
       "      <td>0</td>\n",
       "      <td>0</td>\n",
       "    </tr>\n",
       "  </tbody>\n",
       "</table>\n",
       "<p>6918 rows × 108 columns</p>\n",
       "</div>"
      ],
      "text/plain": [
       "      bath  balcony   price  total_sqft_int  bhk  price_per_sqft  \\\n",
       "0      3.0      2.0  150.00          1672.0    3     8971.291866   \n",
       "1      3.0      3.0  149.00          1750.0    3     8514.285714   \n",
       "2      3.0      2.0  150.00          1750.0    3     8571.428571   \n",
       "3      2.0      2.0   40.00          1250.0    2     3200.000000   \n",
       "4      2.0      2.0   83.00          1200.0    2     6916.666667   \n",
       "...    ...      ...     ...             ...  ...             ...   \n",
       "7115   3.0      2.0  325.00          2900.0    3    11206.896552   \n",
       "7116   3.0      1.0   84.83          1780.0    3     4765.730337   \n",
       "7117   2.0      1.0   48.00           880.0    2     5454.545455   \n",
       "7118   2.0      1.0   55.00          1000.0    2     5500.000000   \n",
       "7119   2.0      1.0   78.00          1400.0    3     5571.428571   \n",
       "\n",
       "      area_typeSuper built-up  Area  area_typeBuilt-up  Area  \\\n",
       "0                                 1                        0   \n",
       "1                                 0                        1   \n",
       "2                                 1                        0   \n",
       "3                                 1                        0   \n",
       "4                                 0                        0   \n",
       "...                             ...                      ...   \n",
       "7115                              1                        0   \n",
       "7116                              1                        0   \n",
       "7117                              0                        0   \n",
       "7118                              0                        0   \n",
       "7119                              0                        0   \n",
       "\n",
       "      area_typePlot  Area  availability_Ready To Move  ...  \\\n",
       "0                       0                           1  ...   \n",
       "1                       0                           1  ...   \n",
       "2                       0                           1  ...   \n",
       "3                       0                           1  ...   \n",
       "4                       1                           1  ...   \n",
       "...                   ...                         ...  ...   \n",
       "7115                    0                           1  ...   \n",
       "7116                    0                           0  ...   \n",
       "7117                    1                           1  ...   \n",
       "7118                    1                           0  ...   \n",
       "7119                    1                           0  ...   \n",
       "\n",
       "      location_Kalena Agrahara  location_Horamavu Agara  \\\n",
       "0                            0                        0   \n",
       "1                            0                        0   \n",
       "2                            0                        0   \n",
       "3                            0                        0   \n",
       "4                            0                        0   \n",
       "...                        ...                      ...   \n",
       "7115                         0                        0   \n",
       "7116                         0                        0   \n",
       "7117                         0                        0   \n",
       "7118                         0                        0   \n",
       "7119                         0                        0   \n",
       "\n",
       "      location_Vidyaranyapura  location_BTM 2nd Stage  \\\n",
       "0                           0                       0   \n",
       "1                           0                       0   \n",
       "2                           0                       0   \n",
       "3                           0                       0   \n",
       "4                           0                       0   \n",
       "...                       ...                     ...   \n",
       "7115                        0                       0   \n",
       "7116                        0                       0   \n",
       "7117                        0                       0   \n",
       "7118                        0                       0   \n",
       "7119                        0                       0   \n",
       "\n",
       "      location_Hebbal Kempapura  location_Hosur Road  \\\n",
       "0                             0                    0   \n",
       "1                             0                    0   \n",
       "2                             0                    0   \n",
       "3                             0                    0   \n",
       "4                             0                    0   \n",
       "...                         ...                  ...   \n",
       "7115                          0                    0   \n",
       "7116                          0                    0   \n",
       "7117                          0                    0   \n",
       "7118                          0                    0   \n",
       "7119                          0                    0   \n",
       "\n",
       "      location_Horamavu Banaswadi  location_Domlur  location_Mahadevpura  \\\n",
       "0                               0                0                     0   \n",
       "1                               0                0                     0   \n",
       "2                               0                0                     0   \n",
       "3                               0                0                     0   \n",
       "4                               0                0                     0   \n",
       "...                           ...              ...                   ...   \n",
       "7115                            0                0                     0   \n",
       "7116                            0                0                     0   \n",
       "7117                            0                0                     0   \n",
       "7118                            0                0                     0   \n",
       "7119                            0                0                     0   \n",
       "\n",
       "      location_Tumkur Road  \n",
       "0                        0  \n",
       "1                        0  \n",
       "2                        0  \n",
       "3                        0  \n",
       "4                        0  \n",
       "...                    ...  \n",
       "7115                     0  \n",
       "7116                     0  \n",
       "7117                     0  \n",
       "7118                     0  \n",
       "7119                     0  \n",
       "\n",
       "[6918 rows x 108 columns]"
      ]
     },
     "execution_count": 5,
     "metadata": {},
     "output_type": "execute_result"
    }
   ],
   "source": [
    "df1=df[(df[\"balcony\"]==0)|(df['balcony']==1)|(df['balcony']==2)|(df['balcony']==3)]\n",
    "df1"
   ]
  },
  {
   "cell_type": "code",
   "execution_count": 11,
   "id": "713849be",
   "metadata": {},
   "outputs": [
    {
     "data": {
      "text/plain": [
       "array([2., 3., 1., 0.])"
      ]
     },
     "execution_count": 11,
     "metadata": {},
     "output_type": "execute_result"
    }
   ],
   "source": [
    "df1['balcony'].unique()"
   ]
  },
  {
   "cell_type": "code",
   "execution_count": 12,
   "id": "104108cc",
   "metadata": {},
   "outputs": [
    {
     "data": {
      "text/plain": [
       "Index(['bath', 'balcony', 'price', 'total_sqft_int', 'bhk', 'price_per_sqft',\n",
       "       'area_typeSuper built-up  Area', 'area_typeBuilt-up  Area',\n",
       "       'area_typePlot  Area', 'availability_Ready To Move',\n",
       "       ...\n",
       "       'location_Kalena Agrahara', 'location_Horamavu Agara',\n",
       "       'location_Vidyaranyapura', 'location_BTM 2nd Stage',\n",
       "       'location_Hebbal Kempapura', 'location_Hosur Road',\n",
       "       'location_Horamavu Banaswadi', 'location_Domlur',\n",
       "       'location_Mahadevpura', 'location_Tumkur Road'],\n",
       "      dtype='object', length=108)"
      ]
     },
     "execution_count": 12,
     "metadata": {},
     "output_type": "execute_result"
    }
   ],
   "source": [
    "df1.columns"
   ]
  },
  {
   "cell_type": "code",
   "execution_count": 13,
   "id": "4a19fa48",
   "metadata": {},
   "outputs": [
    {
     "name": "stdout",
     "output_type": "stream",
     "text": [
      "Total number of houses are  6918\n",
      "Houses with Super built-up Area-- 5212\n",
      "House with Built-up Area  1257\n",
      "House with Plot Area  417\n",
      "Number of Ready to Move Houses are  5465\n",
      "Maximum bhk house is 9\n",
      "Average price per sqft 5868.9193989551\n"
     ]
    }
   ],
   "source": [
    "print(\"Total number of houses are \", len(df1)) \n",
    "print(\"Houses with Super built-up Area--\",len(df1[df1['area_typeSuper built-up  Area']==1]))\n",
    "print(\"House with Built-up Area \", len(df1[df1['area_typeBuilt-up  Area']==1]))\n",
    "print(\"House with Plot Area \", len(df1[df1['area_typePlot  Area']==1]))\n",
    "print(\"Number of Ready to Move Houses are \",len(df1[df1['availability_Ready To Move']==1]))\n",
    "print(\"Maximum bhk house is\",df1['bhk'].max())\n",
    "print(\"Average price per sqft\",df1['price_per_sqft'].mean())"
   ]
  },
  {
   "cell_type": "markdown",
   "id": "573d2912",
   "metadata": {},
   "source": [
    "### Checking for missing values"
   ]
  },
  {
   "cell_type": "code",
   "execution_count": 14,
   "id": "f4a228bf",
   "metadata": {},
   "outputs": [
    {
     "data": {
      "text/plain": [
       "bath                           0\n",
       "balcony                        0\n",
       "price                          0\n",
       "total_sqft_int                 0\n",
       "bhk                            0\n",
       "                              ..\n",
       "location_Hosur Road            0\n",
       "location_Horamavu Banaswadi    0\n",
       "location_Domlur                0\n",
       "location_Mahadevpura           0\n",
       "location_Tumkur Road           0\n",
       "Length: 108, dtype: int64"
      ]
     },
     "execution_count": 14,
     "metadata": {},
     "output_type": "execute_result"
    }
   ],
   "source": [
    "df1.isnull().sum()"
   ]
  },
  {
   "cell_type": "markdown",
   "id": "98d9eb89",
   "metadata": {},
   "source": [
    "#### Renaming columns"
   ]
  },
  {
   "cell_type": "code",
   "execution_count": 6,
   "id": "8892de4e",
   "metadata": {},
   "outputs": [
    {
     "data": {
      "text/html": [
       "<div>\n",
       "<style scoped>\n",
       "    .dataframe tbody tr th:only-of-type {\n",
       "        vertical-align: middle;\n",
       "    }\n",
       "\n",
       "    .dataframe tbody tr th {\n",
       "        vertical-align: top;\n",
       "    }\n",
       "\n",
       "    .dataframe thead th {\n",
       "        text-align: right;\n",
       "    }\n",
       "</style>\n",
       "<table border=\"1\" class=\"dataframe\">\n",
       "  <thead>\n",
       "    <tr style=\"text-align: right;\">\n",
       "      <th></th>\n",
       "      <th>bath</th>\n",
       "      <th>balcony</th>\n",
       "      <th>price</th>\n",
       "      <th>total_sqft_int</th>\n",
       "      <th>bhk</th>\n",
       "      <th>price_per_sqft</th>\n",
       "      <th>super_builtup_area</th>\n",
       "      <th>builtup_area</th>\n",
       "      <th>plot_area</th>\n",
       "      <th>available</th>\n",
       "      <th>...</th>\n",
       "      <th>location_Kalena Agrahara</th>\n",
       "      <th>location_Horamavu Agara</th>\n",
       "      <th>location_Vidyaranyapura</th>\n",
       "      <th>location_BTM 2nd Stage</th>\n",
       "      <th>location_Hebbal Kempapura</th>\n",
       "      <th>location_Hosur Road</th>\n",
       "      <th>location_Horamavu Banaswadi</th>\n",
       "      <th>location_Domlur</th>\n",
       "      <th>location_Mahadevpura</th>\n",
       "      <th>location_Tumkur Road</th>\n",
       "    </tr>\n",
       "  </thead>\n",
       "  <tbody>\n",
       "    <tr>\n",
       "      <th>0</th>\n",
       "      <td>3.0</td>\n",
       "      <td>2.0</td>\n",
       "      <td>150.0</td>\n",
       "      <td>1672.0</td>\n",
       "      <td>3</td>\n",
       "      <td>8971.291866</td>\n",
       "      <td>1</td>\n",
       "      <td>0</td>\n",
       "      <td>0</td>\n",
       "      <td>1</td>\n",
       "      <td>...</td>\n",
       "      <td>0</td>\n",
       "      <td>0</td>\n",
       "      <td>0</td>\n",
       "      <td>0</td>\n",
       "      <td>0</td>\n",
       "      <td>0</td>\n",
       "      <td>0</td>\n",
       "      <td>0</td>\n",
       "      <td>0</td>\n",
       "      <td>0</td>\n",
       "    </tr>\n",
       "    <tr>\n",
       "      <th>1</th>\n",
       "      <td>3.0</td>\n",
       "      <td>3.0</td>\n",
       "      <td>149.0</td>\n",
       "      <td>1750.0</td>\n",
       "      <td>3</td>\n",
       "      <td>8514.285714</td>\n",
       "      <td>0</td>\n",
       "      <td>1</td>\n",
       "      <td>0</td>\n",
       "      <td>1</td>\n",
       "      <td>...</td>\n",
       "      <td>0</td>\n",
       "      <td>0</td>\n",
       "      <td>0</td>\n",
       "      <td>0</td>\n",
       "      <td>0</td>\n",
       "      <td>0</td>\n",
       "      <td>0</td>\n",
       "      <td>0</td>\n",
       "      <td>0</td>\n",
       "      <td>0</td>\n",
       "    </tr>\n",
       "    <tr>\n",
       "      <th>2</th>\n",
       "      <td>3.0</td>\n",
       "      <td>2.0</td>\n",
       "      <td>150.0</td>\n",
       "      <td>1750.0</td>\n",
       "      <td>3</td>\n",
       "      <td>8571.428571</td>\n",
       "      <td>1</td>\n",
       "      <td>0</td>\n",
       "      <td>0</td>\n",
       "      <td>1</td>\n",
       "      <td>...</td>\n",
       "      <td>0</td>\n",
       "      <td>0</td>\n",
       "      <td>0</td>\n",
       "      <td>0</td>\n",
       "      <td>0</td>\n",
       "      <td>0</td>\n",
       "      <td>0</td>\n",
       "      <td>0</td>\n",
       "      <td>0</td>\n",
       "      <td>0</td>\n",
       "    </tr>\n",
       "    <tr>\n",
       "      <th>3</th>\n",
       "      <td>2.0</td>\n",
       "      <td>2.0</td>\n",
       "      <td>40.0</td>\n",
       "      <td>1250.0</td>\n",
       "      <td>2</td>\n",
       "      <td>3200.000000</td>\n",
       "      <td>1</td>\n",
       "      <td>0</td>\n",
       "      <td>0</td>\n",
       "      <td>1</td>\n",
       "      <td>...</td>\n",
       "      <td>0</td>\n",
       "      <td>0</td>\n",
       "      <td>0</td>\n",
       "      <td>0</td>\n",
       "      <td>0</td>\n",
       "      <td>0</td>\n",
       "      <td>0</td>\n",
       "      <td>0</td>\n",
       "      <td>0</td>\n",
       "      <td>0</td>\n",
       "    </tr>\n",
       "    <tr>\n",
       "      <th>4</th>\n",
       "      <td>2.0</td>\n",
       "      <td>2.0</td>\n",
       "      <td>83.0</td>\n",
       "      <td>1200.0</td>\n",
       "      <td>2</td>\n",
       "      <td>6916.666667</td>\n",
       "      <td>0</td>\n",
       "      <td>0</td>\n",
       "      <td>1</td>\n",
       "      <td>1</td>\n",
       "      <td>...</td>\n",
       "      <td>0</td>\n",
       "      <td>0</td>\n",
       "      <td>0</td>\n",
       "      <td>0</td>\n",
       "      <td>0</td>\n",
       "      <td>0</td>\n",
       "      <td>0</td>\n",
       "      <td>0</td>\n",
       "      <td>0</td>\n",
       "      <td>0</td>\n",
       "    </tr>\n",
       "  </tbody>\n",
       "</table>\n",
       "<p>5 rows × 108 columns</p>\n",
       "</div>"
      ],
      "text/plain": [
       "   bath  balcony  price  total_sqft_int  bhk  price_per_sqft  \\\n",
       "0   3.0      2.0  150.0          1672.0    3     8971.291866   \n",
       "1   3.0      3.0  149.0          1750.0    3     8514.285714   \n",
       "2   3.0      2.0  150.0          1750.0    3     8571.428571   \n",
       "3   2.0      2.0   40.0          1250.0    2     3200.000000   \n",
       "4   2.0      2.0   83.0          1200.0    2     6916.666667   \n",
       "\n",
       "   super_builtup_area  builtup_area  plot_area  available  ...  \\\n",
       "0                   1             0          0          1  ...   \n",
       "1                   0             1          0          1  ...   \n",
       "2                   1             0          0          1  ...   \n",
       "3                   1             0          0          1  ...   \n",
       "4                   0             0          1          1  ...   \n",
       "\n",
       "   location_Kalena Agrahara  location_Horamavu Agara  location_Vidyaranyapura  \\\n",
       "0                         0                        0                        0   \n",
       "1                         0                        0                        0   \n",
       "2                         0                        0                        0   \n",
       "3                         0                        0                        0   \n",
       "4                         0                        0                        0   \n",
       "\n",
       "   location_BTM 2nd Stage  location_Hebbal Kempapura  location_Hosur Road  \\\n",
       "0                       0                          0                    0   \n",
       "1                       0                          0                    0   \n",
       "2                       0                          0                    0   \n",
       "3                       0                          0                    0   \n",
       "4                       0                          0                    0   \n",
       "\n",
       "   location_Horamavu Banaswadi  location_Domlur  location_Mahadevpura  \\\n",
       "0                            0                0                     0   \n",
       "1                            0                0                     0   \n",
       "2                            0                0                     0   \n",
       "3                            0                0                     0   \n",
       "4                            0                0                     0   \n",
       "\n",
       "   location_Tumkur Road  \n",
       "0                     0  \n",
       "1                     0  \n",
       "2                     0  \n",
       "3                     0  \n",
       "4                     0  \n",
       "\n",
       "[5 rows x 108 columns]"
      ]
     },
     "execution_count": 6,
     "metadata": {},
     "output_type": "execute_result"
    }
   ],
   "source": [
    "df2=df1.rename({'area_typeSuper built-up  Area':\"super_builtup_area\",'area_typeBuilt-up  Area':\"builtup_area\",'area_typePlot  Area':\"plot_area\",'availability_Ready To Move':\"available\"},axis=1)\n",
    "df2.head()"
   ]
  },
  {
   "cell_type": "code",
   "execution_count": 7,
   "id": "49e19679",
   "metadata": {},
   "outputs": [
    {
     "data": {
      "text/plain": [
       "Index(['bath', 'balcony', 'price', 'total_sqft_int', 'bhk', 'price_per_sqft',\n",
       "       'super_builtup_area', 'builtup_area', 'plot_area', 'available',\n",
       "       ...\n",
       "       'location_Kalena Agrahara', 'location_Horamavu Agara',\n",
       "       'location_Vidyaranyapura', 'location_BTM 2nd Stage',\n",
       "       'location_Hebbal Kempapura', 'location_Hosur Road',\n",
       "       'location_Horamavu Banaswadi', 'location_Domlur',\n",
       "       'location_Mahadevpura', 'location_Tumkur Road'],\n",
       "      dtype='object', length=108)"
      ]
     },
     "execution_count": 7,
     "metadata": {},
     "output_type": "execute_result"
    }
   ],
   "source": [
    "df2.columns"
   ]
  },
  {
   "cell_type": "markdown",
   "id": "bcd3d275",
   "metadata": {},
   "source": [
    "## Exploratory Data Analysis"
   ]
  },
  {
   "cell_type": "markdown",
   "id": "3ed5b228",
   "metadata": {},
   "source": [
    "### Checking Outliers"
   ]
  },
  {
   "cell_type": "code",
   "execution_count": 27,
   "id": "175e6a44",
   "metadata": {},
   "outputs": [
    {
     "data": {
      "text/plain": [
       "<Axes: >"
      ]
     },
     "execution_count": 27,
     "metadata": {},
     "output_type": "execute_result"
    },
    {
     "data": {
      "image/png": "[encoded data removed]",
      "text/plain": [
       "<Figure size 640x480 with 1 Axes>"
      ]
     },
     "metadata": {},
     "output_type": "display_data"
    }
   ],
   "source": [
    "plt.xticks(rotation=90, fontsize=\"small\")\n",
    "\n",
    "sns.boxplot(data=df2[['bath', 'balcony', 'total_sqft_int', 'bhk', 'price_per_sqft',\n",
    "       'super_builtup_area', 'builtup_area', 'plot_area', 'available']])\n"
   ]
  },
  {
   "cell_type": "markdown",
   "id": "d4213064",
   "metadata": {},
   "source": [
    "#### 2 columns \"total_sqft_int\" and \"price_per_sqft\" showing outliers as it varies for different houses"
   ]
  },
  {
   "cell_type": "code",
   "execution_count": 29,
   "id": "0b028c14",
   "metadata": {},
   "outputs": [
    {
     "data": {
      "text/plain": [
       "Text(0.5, 1.0, 'BHK v/s Price Per SQFT')"
      ]
     },
     "execution_count": 29,
     "metadata": {},
     "output_type": "execute_result"
    },
    {
     "data": {
      "image/png": "[encoded data removed]",
      "text/plain": [
       "<Figure size 640x480 with 1 Axes>"
      ]
     },
     "metadata": {},
     "output_type": "display_data"
    }
   ],
   "source": [
    "sns.barplot(x='bhk', y='price_per_sqft', data=df2)\n",
    "plt.title(\"BHK v/s Price Per SQFT\")"
   ]
  },
  {
   "cell_type": "code",
   "execution_count": 32,
   "id": "c1db10a5",
   "metadata": {},
   "outputs": [
    {
     "data": {
      "text/plain": [
       "<Axes: xlabel='bhk', ylabel='price_per_sqft'>"
      ]
     },
     "execution_count": 32,
     "metadata": {},
     "output_type": "execute_result"
    },
    {
     "data": {
      "image/png": "[encoded data removed]",
      "text/plain": [
       "<Figure size 640x480 with 1 Axes>"
      ]
     },
     "metadata": {},
     "output_type": "display_data"
    }
   ],
   "source": [
    "## Lets check the same with lineplot\n",
    "sns.lineplot(x='bhk',y='price_per_sqft', data=df2)"
   ]
  },
  {
   "cell_type": "markdown",
   "id": "741e439e",
   "metadata": {},
   "source": [
    "### Price per sqft is increasing as BHK is increasing, but there is a fall in price per sqft above 6 bhk houses"
   ]
  },
  {
   "cell_type": "code",
   "execution_count": 31,
   "id": "9762bd1d",
   "metadata": {},
   "outputs": [
    {
     "data": {
      "text/plain": [
       "Text(0.5, 1.0, 'Count of BHKs')"
      ]
     },
     "execution_count": 31,
     "metadata": {},
     "output_type": "execute_result"
    },
    {
     "data": {
      "image/png": "[encoded data removed]",
      "text/plain": [
       "<Figure size 640x480 with 1 Axes>"
      ]
     },
     "metadata": {},
     "output_type": "display_data"
    }
   ],
   "source": [
    "sns.countplot(x='bhk', data=df2)\n",
    "plt.title(\"Count of BHKs\")"
   ]
  },
  {
   "cell_type": "markdown",
   "id": "90e831fe",
   "metadata": {},
   "source": [
    "#### Count of 2 bhk house is highest, then followed by 3 bhk house"
   ]
  },
  {
   "cell_type": "code",
   "execution_count": 8,
   "id": "d8daaf60",
   "metadata": {},
   "outputs": [
    {
     "data": {
      "text/plain": [
       "<Axes: title={'center': 'Comparing Price per sqft area of 2 BHK V/S 3 BHK'}, xlabel='bhk', ylabel='price_per_sqft'>"
      ]
     },
     "execution_count": 8,
     "metadata": {},
     "output_type": "execute_result"
    },
    {
     "data": {
      "image/png": "[encoded data removed]",
      "text/plain": [
       "<Figure size 640x480 with 1 Axes>"
      ]
     },
     "metadata": {},
     "output_type": "display_data"
    }
   ],
   "source": [
    "## Let's compare price per sqft area of 2 bhk v/s 3 bhk\n",
    "plt.title(\"Comparing Price per sqft area of 2 BHK V/S 3 BHK\")\n",
    "dfn=df2[(df2[\"bhk\"]==2)|(df2[\"bhk\"]==3)]\n",
    "sns.barplot(x=\"bhk\",y=\"price_per_sqft\", data=dfn)"
   ]
  },
  {
   "cell_type": "markdown",
   "id": "174c3efc",
   "metadata": {},
   "source": [
    "#### Price per sqft is less for 2 bhk house as compared to 3 bhk house"
   ]
  },
  {
   "cell_type": "markdown",
   "id": "ebf07e4a",
   "metadata": {},
   "source": [
    "### Number of balconies v/s price per sqft"
   ]
  },
  {
   "cell_type": "code",
   "execution_count": 37,
   "id": "0bd74941",
   "metadata": {},
   "outputs": [
    {
     "data": {
      "text/plain": [
       "Text(0.5, 1.0, 'No of Balconies V/S Price per sqft area')"
      ]
     },
     "execution_count": 37,
     "metadata": {},
     "output_type": "execute_result"
    },
    {
     "data": {
      "image/png": "[encoded data removed]",
      "text/plain": [
       "<Figure size 640x480 with 1 Axes>"
      ]
     },
     "metadata": {},
     "output_type": "display_data"
    }
   ],
   "source": [
    "sns.lineplot(x='balcony',y='price_per_sqft',data=df2)\n",
    "plt.title(\"No of Balconies V/S Price per sqft area\")"
   ]
  },
  {
   "cell_type": "markdown",
   "id": "06ddf3b1",
   "metadata": {},
   "source": [
    "#### We can conclude here that price per sqft is increasing as number of balcony is increasing"
   ]
  },
  {
   "cell_type": "code",
   "execution_count": 38,
   "id": "822b3827",
   "metadata": {},
   "outputs": [
    {
     "data": {
      "text/html": [
       "<div>\n",
       "<style scoped>\n",
       "    .dataframe tbody tr th:only-of-type {\n",
       "        vertical-align: middle;\n",
       "    }\n",
       "\n",
       "    .dataframe tbody tr th {\n",
       "        vertical-align: top;\n",
       "    }\n",
       "\n",
       "    .dataframe thead th {\n",
       "        text-align: right;\n",
       "    }\n",
       "</style>\n",
       "<table border=\"1\" class=\"dataframe\">\n",
       "  <thead>\n",
       "    <tr style=\"text-align: right;\">\n",
       "      <th></th>\n",
       "      <th>bath</th>\n",
       "      <th>balcony</th>\n",
       "      <th>price</th>\n",
       "      <th>total_sqft_int</th>\n",
       "      <th>bhk</th>\n",
       "      <th>price_per_sqft</th>\n",
       "      <th>super_builtup_area</th>\n",
       "      <th>builtup_area</th>\n",
       "      <th>plot_area</th>\n",
       "      <th>available</th>\n",
       "      <th>...</th>\n",
       "      <th>location_Kalena Agrahara</th>\n",
       "      <th>location_Horamavu Agara</th>\n",
       "      <th>location_Vidyaranyapura</th>\n",
       "      <th>location_BTM 2nd Stage</th>\n",
       "      <th>location_Hebbal Kempapura</th>\n",
       "      <th>location_Hosur Road</th>\n",
       "      <th>location_Horamavu Banaswadi</th>\n",
       "      <th>location_Domlur</th>\n",
       "      <th>location_Mahadevpura</th>\n",
       "      <th>location_Tumkur Road</th>\n",
       "    </tr>\n",
       "  </thead>\n",
       "  <tbody>\n",
       "    <tr>\n",
       "      <th>count</th>\n",
       "      <td>6918.000000</td>\n",
       "      <td>6918.000000</td>\n",
       "      <td>6918.000000</td>\n",
       "      <td>6918.000000</td>\n",
       "      <td>6918.000000</td>\n",
       "      <td>6918.000000</td>\n",
       "      <td>6918.000000</td>\n",
       "      <td>6918.000000</td>\n",
       "      <td>6918.000000</td>\n",
       "      <td>6918.000000</td>\n",
       "      <td>...</td>\n",
       "      <td>6918.000000</td>\n",
       "      <td>6918.000000</td>\n",
       "      <td>6918.000000</td>\n",
       "      <td>6918.000000</td>\n",
       "      <td>6918.000000</td>\n",
       "      <td>6918.000000</td>\n",
       "      <td>6918.000000</td>\n",
       "      <td>6918.000000</td>\n",
       "      <td>6918.000000</td>\n",
       "      <td>6918.000000</td>\n",
       "    </tr>\n",
       "    <tr>\n",
       "      <th>mean</th>\n",
       "      <td>2.357473</td>\n",
       "      <td>1.572420</td>\n",
       "      <td>92.322058</td>\n",
       "      <td>1442.094279</td>\n",
       "      <td>2.435675</td>\n",
       "      <td>5868.919399</td>\n",
       "      <td>0.753397</td>\n",
       "      <td>0.181700</td>\n",
       "      <td>0.060278</td>\n",
       "      <td>0.789968</td>\n",
       "      <td>...</td>\n",
       "      <td>0.003180</td>\n",
       "      <td>0.003180</td>\n",
       "      <td>0.002891</td>\n",
       "      <td>0.002891</td>\n",
       "      <td>0.002457</td>\n",
       "      <td>0.003036</td>\n",
       "      <td>0.002891</td>\n",
       "      <td>0.002746</td>\n",
       "      <td>0.002891</td>\n",
       "      <td>0.002891</td>\n",
       "    </tr>\n",
       "    <tr>\n",
       "      <th>std</th>\n",
       "      <td>0.837788</td>\n",
       "      <td>0.781751</td>\n",
       "      <td>105.359023</td>\n",
       "      <td>795.303748</td>\n",
       "      <td>0.808449</td>\n",
       "      <td>2507.265232</td>\n",
       "      <td>0.431065</td>\n",
       "      <td>0.385625</td>\n",
       "      <td>0.238018</td>\n",
       "      <td>0.407360</td>\n",
       "      <td>...</td>\n",
       "      <td>0.056307</td>\n",
       "      <td>0.056307</td>\n",
       "      <td>0.053694</td>\n",
       "      <td>0.053694</td>\n",
       "      <td>0.049514</td>\n",
       "      <td>0.055016</td>\n",
       "      <td>0.053694</td>\n",
       "      <td>0.052338</td>\n",
       "      <td>0.053694</td>\n",
       "      <td>0.053694</td>\n",
       "    </tr>\n",
       "    <tr>\n",
       "      <th>min</th>\n",
       "      <td>1.000000</td>\n",
       "      <td>0.000000</td>\n",
       "      <td>10.000000</td>\n",
       "      <td>350.000000</td>\n",
       "      <td>1.000000</td>\n",
       "      <td>1250.000000</td>\n",
       "      <td>0.000000</td>\n",
       "      <td>0.000000</td>\n",
       "      <td>0.000000</td>\n",
       "      <td>0.000000</td>\n",
       "      <td>...</td>\n",
       "      <td>0.000000</td>\n",
       "      <td>0.000000</td>\n",
       "      <td>0.000000</td>\n",
       "      <td>0.000000</td>\n",
       "      <td>0.000000</td>\n",
       "      <td>0.000000</td>\n",
       "      <td>0.000000</td>\n",
       "      <td>0.000000</td>\n",
       "      <td>0.000000</td>\n",
       "      <td>0.000000</td>\n",
       "    </tr>\n",
       "    <tr>\n",
       "      <th>25%</th>\n",
       "      <td>2.000000</td>\n",
       "      <td>1.000000</td>\n",
       "      <td>49.000000</td>\n",
       "      <td>1090.250000</td>\n",
       "      <td>2.000000</td>\n",
       "      <td>4400.000000</td>\n",
       "      <td>1.000000</td>\n",
       "      <td>0.000000</td>\n",
       "      <td>0.000000</td>\n",
       "      <td>1.000000</td>\n",
       "      <td>...</td>\n",
       "      <td>0.000000</td>\n",
       "      <td>0.000000</td>\n",
       "      <td>0.000000</td>\n",
       "      <td>0.000000</td>\n",
       "      <td>0.000000</td>\n",
       "      <td>0.000000</td>\n",
       "      <td>0.000000</td>\n",
       "      <td>0.000000</td>\n",
       "      <td>0.000000</td>\n",
       "      <td>0.000000</td>\n",
       "    </tr>\n",
       "    <tr>\n",
       "      <th>50%</th>\n",
       "      <td>2.000000</td>\n",
       "      <td>2.000000</td>\n",
       "      <td>68.000000</td>\n",
       "      <td>1250.000000</td>\n",
       "      <td>2.000000</td>\n",
       "      <td>5386.816368</td>\n",
       "      <td>1.000000</td>\n",
       "      <td>0.000000</td>\n",
       "      <td>0.000000</td>\n",
       "      <td>1.000000</td>\n",
       "      <td>...</td>\n",
       "      <td>0.000000</td>\n",
       "      <td>0.000000</td>\n",
       "      <td>0.000000</td>\n",
       "      <td>0.000000</td>\n",
       "      <td>0.000000</td>\n",
       "      <td>0.000000</td>\n",
       "      <td>0.000000</td>\n",
       "      <td>0.000000</td>\n",
       "      <td>0.000000</td>\n",
       "      <td>0.000000</td>\n",
       "    </tr>\n",
       "    <tr>\n",
       "      <th>75%</th>\n",
       "      <td>3.000000</td>\n",
       "      <td>2.000000</td>\n",
       "      <td>100.000000</td>\n",
       "      <td>1602.000000</td>\n",
       "      <td>3.000000</td>\n",
       "      <td>6578.947368</td>\n",
       "      <td>1.000000</td>\n",
       "      <td>0.000000</td>\n",
       "      <td>0.000000</td>\n",
       "      <td>1.000000</td>\n",
       "      <td>...</td>\n",
       "      <td>0.000000</td>\n",
       "      <td>0.000000</td>\n",
       "      <td>0.000000</td>\n",
       "      <td>0.000000</td>\n",
       "      <td>0.000000</td>\n",
       "      <td>0.000000</td>\n",
       "      <td>0.000000</td>\n",
       "      <td>0.000000</td>\n",
       "      <td>0.000000</td>\n",
       "      <td>0.000000</td>\n",
       "    </tr>\n",
       "    <tr>\n",
       "      <th>max</th>\n",
       "      <td>9.000000</td>\n",
       "      <td>3.000000</td>\n",
       "      <td>2912.000000</td>\n",
       "      <td>30400.000000</td>\n",
       "      <td>9.000000</td>\n",
       "      <td>35000.000000</td>\n",
       "      <td>1.000000</td>\n",
       "      <td>1.000000</td>\n",
       "      <td>1.000000</td>\n",
       "      <td>1.000000</td>\n",
       "      <td>...</td>\n",
       "      <td>1.000000</td>\n",
       "      <td>1.000000</td>\n",
       "      <td>1.000000</td>\n",
       "      <td>1.000000</td>\n",
       "      <td>1.000000</td>\n",
       "      <td>1.000000</td>\n",
       "      <td>1.000000</td>\n",
       "      <td>1.000000</td>\n",
       "      <td>1.000000</td>\n",
       "      <td>1.000000</td>\n",
       "    </tr>\n",
       "  </tbody>\n",
       "</table>\n",
       "<p>8 rows × 108 columns</p>\n",
       "</div>"
      ],
      "text/plain": [
       "              bath      balcony        price  total_sqft_int          bhk  \\\n",
       "count  6918.000000  6918.000000  6918.000000     6918.000000  6918.000000   \n",
       "mean      2.357473     1.572420    92.322058     1442.094279     2.435675   \n",
       "std       0.837788     0.781751   105.359023      795.303748     0.808449   \n",
       "min       1.000000     0.000000    10.000000      350.000000     1.000000   \n",
       "25%       2.000000     1.000000    49.000000     1090.250000     2.000000   \n",
       "50%       2.000000     2.000000    68.000000     1250.000000     2.000000   \n",
       "75%       3.000000     2.000000   100.000000     1602.000000     3.000000   \n",
       "max       9.000000     3.000000  2912.000000    30400.000000     9.000000   \n",
       "\n",
       "       price_per_sqft  super_builtup_area  builtup_area    plot_area  \\\n",
       "count     6918.000000         6918.000000   6918.000000  6918.000000   \n",
       "mean      5868.919399            0.753397      0.181700     0.060278   \n",
       "std       2507.265232            0.431065      0.385625     0.238018   \n",
       "min       1250.000000            0.000000      0.000000     0.000000   \n",
       "25%       4400.000000            1.000000      0.000000     0.000000   \n",
       "50%       5386.816368            1.000000      0.000000     0.000000   \n",
       "75%       6578.947368            1.000000      0.000000     0.000000   \n",
       "max      35000.000000            1.000000      1.000000     1.000000   \n",
       "\n",
       "         available  ...  location_Kalena Agrahara  location_Horamavu Agara  \\\n",
       "count  6918.000000  ...               6918.000000              6918.000000   \n",
       "mean      0.789968  ...                  0.003180                 0.003180   \n",
       "std       0.407360  ...                  0.056307                 0.056307   \n",
       "min       0.000000  ...                  0.000000                 0.000000   \n",
       "25%       1.000000  ...                  0.000000                 0.000000   \n",
       "50%       1.000000  ...                  0.000000                 0.000000   \n",
       "75%       1.000000  ...                  0.000000                 0.000000   \n",
       "max       1.000000  ...                  1.000000                 1.000000   \n",
       "\n",
       "       location_Vidyaranyapura  location_BTM 2nd Stage  \\\n",
       "count              6918.000000             6918.000000   \n",
       "mean                  0.002891                0.002891   \n",
       "std                   0.053694                0.053694   \n",
       "min                   0.000000                0.000000   \n",
       "25%                   0.000000                0.000000   \n",
       "50%                   0.000000                0.000000   \n",
       "75%                   0.000000                0.000000   \n",
       "max                   1.000000                1.000000   \n",
       "\n",
       "       location_Hebbal Kempapura  location_Hosur Road  \\\n",
       "count                6918.000000          6918.000000   \n",
       "mean                    0.002457             0.003036   \n",
       "std                     0.049514             0.055016   \n",
       "min                     0.000000             0.000000   \n",
       "25%                     0.000000             0.000000   \n",
       "50%                     0.000000             0.000000   \n",
       "75%                     0.000000             0.000000   \n",
       "max                     1.000000             1.000000   \n",
       "\n",
       "       location_Horamavu Banaswadi  location_Domlur  location_Mahadevpura  \\\n",
       "count                  6918.000000      6918.000000           6918.000000   \n",
       "mean                      0.002891         0.002746              0.002891   \n",
       "std                       0.053694         0.052338              0.053694   \n",
       "min                       0.000000         0.000000              0.000000   \n",
       "25%                       0.000000         0.000000              0.000000   \n",
       "50%                       0.000000         0.000000              0.000000   \n",
       "75%                       0.000000         0.000000              0.000000   \n",
       "max                       1.000000         1.000000              1.000000   \n",
       "\n",
       "       location_Tumkur Road  \n",
       "count           6918.000000  \n",
       "mean               0.002891  \n",
       "std                0.053694  \n",
       "min                0.000000  \n",
       "25%                0.000000  \n",
       "50%                0.000000  \n",
       "75%                0.000000  \n",
       "max                1.000000  \n",
       "\n",
       "[8 rows x 108 columns]"
      ]
     },
     "execution_count": 38,
     "metadata": {},
     "output_type": "execute_result"
    }
   ],
   "source": [
    "df2.describe()"
   ]
  },
  {
   "cell_type": "code",
   "execution_count": 39,
   "id": "787d1426",
   "metadata": {},
   "outputs": [
    {
     "data": {
      "text/html": [
       "<div>\n",
       "<style scoped>\n",
       "    .dataframe tbody tr th:only-of-type {\n",
       "        vertical-align: middle;\n",
       "    }\n",
       "\n",
       "    .dataframe tbody tr th {\n",
       "        vertical-align: top;\n",
       "    }\n",
       "\n",
       "    .dataframe thead th {\n",
       "        text-align: right;\n",
       "    }\n",
       "</style>\n",
       "<table border=\"1\" class=\"dataframe\">\n",
       "  <thead>\n",
       "    <tr style=\"text-align: right;\">\n",
       "      <th></th>\n",
       "      <th>bath</th>\n",
       "      <th>balcony</th>\n",
       "      <th>total_sqft_int</th>\n",
       "      <th>bhk</th>\n",
       "      <th>price_per_sqft</th>\n",
       "      <th>super_builtup_area</th>\n",
       "      <th>builtup_area</th>\n",
       "      <th>plot_area</th>\n",
       "      <th>available</th>\n",
       "    </tr>\n",
       "  </thead>\n",
       "  <tbody>\n",
       "    <tr>\n",
       "      <th>bath</th>\n",
       "      <td>1.000000</td>\n",
       "      <td>0.300074</td>\n",
       "      <td>0.676229</td>\n",
       "      <td>0.875053</td>\n",
       "      <td>0.335517</td>\n",
       "      <td>-0.111749</td>\n",
       "      <td>0.031170</td>\n",
       "      <td>0.152927</td>\n",
       "      <td>0.016270</td>\n",
       "    </tr>\n",
       "    <tr>\n",
       "      <th>balcony</th>\n",
       "      <td>0.300074</td>\n",
       "      <td>1.000000</td>\n",
       "      <td>0.233158</td>\n",
       "      <td>0.284045</td>\n",
       "      <td>0.070028</td>\n",
       "      <td>0.122504</td>\n",
       "      <td>-0.049171</td>\n",
       "      <td>-0.142729</td>\n",
       "      <td>0.118364</td>\n",
       "    </tr>\n",
       "    <tr>\n",
       "      <th>total_sqft_int</th>\n",
       "      <td>0.676229</td>\n",
       "      <td>0.233158</td>\n",
       "      <td>1.000000</td>\n",
       "      <td>0.674932</td>\n",
       "      <td>0.385540</td>\n",
       "      <td>-0.128785</td>\n",
       "      <td>0.016462</td>\n",
       "      <td>0.210531</td>\n",
       "      <td>0.014851</td>\n",
       "    </tr>\n",
       "    <tr>\n",
       "      <th>bhk</th>\n",
       "      <td>0.875053</td>\n",
       "      <td>0.284045</td>\n",
       "      <td>0.674932</td>\n",
       "      <td>1.000000</td>\n",
       "      <td>0.312623</td>\n",
       "      <td>-0.134302</td>\n",
       "      <td>0.043292</td>\n",
       "      <td>0.170791</td>\n",
       "      <td>0.038208</td>\n",
       "    </tr>\n",
       "    <tr>\n",
       "      <th>price_per_sqft</th>\n",
       "      <td>0.335517</td>\n",
       "      <td>0.070028</td>\n",
       "      <td>0.385540</td>\n",
       "      <td>0.312623</td>\n",
       "      <td>1.000000</td>\n",
       "      <td>-0.102511</td>\n",
       "      <td>-0.025839</td>\n",
       "      <td>0.229835</td>\n",
       "      <td>0.036447</td>\n",
       "    </tr>\n",
       "    <tr>\n",
       "      <th>super_builtup_area</th>\n",
       "      <td>-0.111749</td>\n",
       "      <td>0.122504</td>\n",
       "      <td>-0.128785</td>\n",
       "      <td>-0.134302</td>\n",
       "      <td>-0.102511</td>\n",
       "      <td>1.000000</td>\n",
       "      <td>-0.823633</td>\n",
       "      <td>-0.442681</td>\n",
       "      <td>-0.118815</td>\n",
       "    </tr>\n",
       "    <tr>\n",
       "      <th>builtup_area</th>\n",
       "      <td>0.031170</td>\n",
       "      <td>-0.049171</td>\n",
       "      <td>0.016462</td>\n",
       "      <td>0.043292</td>\n",
       "      <td>-0.025839</td>\n",
       "      <td>-0.823633</td>\n",
       "      <td>1.000000</td>\n",
       "      <td>-0.119344</td>\n",
       "      <td>0.115049</td>\n",
       "    </tr>\n",
       "    <tr>\n",
       "      <th>plot_area</th>\n",
       "      <td>0.152927</td>\n",
       "      <td>-0.142729</td>\n",
       "      <td>0.210531</td>\n",
       "      <td>0.170791</td>\n",
       "      <td>0.229835</td>\n",
       "      <td>-0.442681</td>\n",
       "      <td>-0.119344</td>\n",
       "      <td>1.000000</td>\n",
       "      <td>0.027709</td>\n",
       "    </tr>\n",
       "    <tr>\n",
       "      <th>available</th>\n",
       "      <td>0.016270</td>\n",
       "      <td>0.118364</td>\n",
       "      <td>0.014851</td>\n",
       "      <td>0.038208</td>\n",
       "      <td>0.036447</td>\n",
       "      <td>-0.118815</td>\n",
       "      <td>0.115049</td>\n",
       "      <td>0.027709</td>\n",
       "      <td>1.000000</td>\n",
       "    </tr>\n",
       "  </tbody>\n",
       "</table>\n",
       "</div>"
      ],
      "text/plain": [
       "                        bath   balcony  total_sqft_int       bhk  \\\n",
       "bath                1.000000  0.300074        0.676229  0.875053   \n",
       "balcony             0.300074  1.000000        0.233158  0.284045   \n",
       "total_sqft_int      0.676229  0.233158        1.000000  0.674932   \n",
       "bhk                 0.875053  0.284045        0.674932  1.000000   \n",
       "price_per_sqft      0.335517  0.070028        0.385540  0.312623   \n",
       "super_builtup_area -0.111749  0.122504       -0.128785 -0.134302   \n",
       "builtup_area        0.031170 -0.049171        0.016462  0.043292   \n",
       "plot_area           0.152927 -0.142729        0.210531  0.170791   \n",
       "available           0.016270  0.118364        0.014851  0.038208   \n",
       "\n",
       "                    price_per_sqft  super_builtup_area  builtup_area  \\\n",
       "bath                      0.335517           -0.111749      0.031170   \n",
       "balcony                   0.070028            0.122504     -0.049171   \n",
       "total_sqft_int            0.385540           -0.128785      0.016462   \n",
       "bhk                       0.312623           -0.134302      0.043292   \n",
       "price_per_sqft            1.000000           -0.102511     -0.025839   \n",
       "super_builtup_area       -0.102511            1.000000     -0.823633   \n",
       "builtup_area             -0.025839           -0.823633      1.000000   \n",
       "plot_area                 0.229835           -0.442681     -0.119344   \n",
       "available                 0.036447           -0.118815      0.115049   \n",
       "\n",
       "                    plot_area  available  \n",
       "bath                 0.152927   0.016270  \n",
       "balcony             -0.142729   0.118364  \n",
       "total_sqft_int       0.210531   0.014851  \n",
       "bhk                  0.170791   0.038208  \n",
       "price_per_sqft       0.229835   0.036447  \n",
       "super_builtup_area  -0.442681  -0.118815  \n",
       "builtup_area        -0.119344   0.115049  \n",
       "plot_area            1.000000   0.027709  \n",
       "available            0.027709   1.000000  "
      ]
     },
     "execution_count": 39,
     "metadata": {},
     "output_type": "execute_result"
    }
   ],
   "source": [
    "# Checking the correlation\n",
    "df2[['bath', 'balcony', 'total_sqft_int', 'bhk', 'price_per_sqft',\n",
    "       'super_builtup_area', 'builtup_area', 'plot_area', 'available']].corr()"
   ]
  },
  {
   "cell_type": "code",
   "execution_count": 42,
   "id": "74c82b32",
   "metadata": {},
   "outputs": [
    {
     "data": {
      "text/plain": [
       "<Axes: >"
      ]
     },
     "execution_count": 42,
     "metadata": {},
     "output_type": "execute_result"
    },
    {
     "data": {
      "image/png": "[encoded data removed]",
      "text/plain": [
       "<Figure size 640x480 with 2 Axes>"
      ]
     },
     "metadata": {},
     "output_type": "display_data"
    }
   ],
   "source": [
    "sns.heatmap(df2[['bath', 'balcony', 'total_sqft_int', 'bhk', 'price_per_sqft',\n",
    "       'super_builtup_area', 'builtup_area', 'plot_area', 'available']].corr(),annot=True,cmap=\"RdBu\")"
   ]
  },
  {
   "cell_type": "markdown",
   "id": "1e1a4e0b",
   "metadata": {},
   "source": [
    "## Building the Model using KNN "
   ]
  },
  {
   "cell_type": "code",
   "execution_count": 9,
   "id": "737daf62",
   "metadata": {},
   "outputs": [],
   "source": [
    "from sklearn.neighbors import KNeighborsRegressor\n",
    "from math import sqrt\n",
    "\n",
    "X=df2[['bath', 'balcony', 'total_sqft_int', 'bhk','price_per_sqft','super_builtup_area',\n",
    "       'builtup_area', 'plot_area', 'available']]\n",
    "y=df2['price']\n"
   ]
  },
  {
   "cell_type": "code",
   "execution_count": 10,
   "id": "eb67dca7",
   "metadata": {},
   "outputs": [],
   "source": [
    "def train_test(X,y):\n",
    "    X_train, X_test,y_train, y_test= train_test_split(X,y, test_size=0.2, random_state=1234)\n",
    "    print(X_train.shape), print(y_train.shape), print(X_test.shape),print(y_test.shape)\n",
    "    return X_train, X_test, y_train, y_test"
   ]
  },
  {
   "cell_type": "code",
   "execution_count": 11,
   "id": "52aed74a",
   "metadata": {},
   "outputs": [
    {
     "data": {
      "text/plain": [
       "83.17451532771321"
      ]
     },
     "execution_count": 11,
     "metadata": {},
     "output_type": "execute_result"
    }
   ],
   "source": [
    "# Standard method to choose K\n",
    "k=sqrt(df2.shape[0])\n",
    "k"
   ]
  },
  {
   "cell_type": "code",
   "execution_count": 12,
   "id": "ba587884",
   "metadata": {},
   "outputs": [
    {
     "name": "stdout",
     "output_type": "stream",
     "text": [
      "Calling the train_test function\n",
      "(5534, 9)\n",
      "(5534,)\n",
      "(1384, 9)\n",
      "(1384,)\n",
      "Calling the modelling function\n",
      "Model training completed\n",
      "[94.07       51.75373494 20.15331325 ... 46.81759036 65.73072289\n",
      " 50.90771084]\n",
      "----------------------------\n",
      "KNN Regression\n",
      "r2_score= 63.43\n",
      "RMSE: 65.6626867022886\n"
     ]
    }
   ],
   "source": [
    "print(\"Calling the train_test function\")\n",
    "X_train, X_test,y_train, y_test= train_test(X,y)\n",
    "\n",
    "def modelling(X_train, y_train, X_test):\n",
    "    model=KNeighborsRegressor(n_neighbors=83)\n",
    "    model_fit=model.fit(X_train, y_train)\n",
    "    print(\"Model training completed\")\n",
    "    pred=model_fit.predict(X_test)\n",
    "    return pred\n",
    "\n",
    "print(\"Calling the modelling function\")\n",
    "pred=modelling(X_train, y_train, X_test)\n",
    "print(pred)\n",
    "r2score=(round(r2_score(y_test,pred)*100,2))\n",
    "print(\"----------------------------\")\n",
    "print(\"KNN Regression\")\n",
    "print(\"r2_score=\",r2score)\n",
    "rmse = m.sqrt(mean_squared_error(y_test,pred))\n",
    "print('RMSE:',rmse)"
   ]
  },
  {
   "cell_type": "markdown",
   "id": "ce969a1b",
   "metadata": {},
   "source": [
    "#### Our Model is giving us accuracy of 63.43% "
   ]
  },
  {
   "cell_type": "code",
   "execution_count": 13,
   "id": "c2e3cd0f",
   "metadata": {},
   "outputs": [],
   "source": [
    "#Error method\n",
    "error_rate=[]\n",
    "for i in range(1,100):\n",
    "    knn=KNeighborsRegressor(n_neighbors=i)\n",
    "    knn.fit(X_train,y_train)\n",
    "    pred_i=knn.predict(X_test)\n",
    "    error_rate.append(1-r2_score(y_test,pred_i))"
   ]
  },
  {
   "cell_type": "code",
   "execution_count": 14,
   "id": "982705d0",
   "metadata": {},
   "outputs": [
    {
     "data": {
      "text/plain": [
       "[0.005479123010749265,\n",
       " 0.05409306930762148,\n",
       " 0.1067413288955954,\n",
       " 0.0890612227187032,\n",
       " 0.10031576962157795,\n",
       " 0.1303040097792294,\n",
       " 0.1438600776347826,\n",
       " 0.16353429782238904,\n",
       " 0.18657543338216076,\n",
       " 0.19434376831980316,\n",
       " 0.186634395701626,\n",
       " 0.1777894033117452,\n",
       " 0.19422689185585895,\n",
       " 0.1992283550514936,\n",
       " 0.20833110691211176,\n",
       " 0.21878816427211922,\n",
       " 0.2250688388598634,\n",
       " 0.2297235962894244,\n",
       " 0.23263971011333218,\n",
       " 0.24021784654653588,\n",
       " 0.22901466214503963,\n",
       " 0.21700861875215627,\n",
       " 0.22352635138503718,\n",
       " 0.22651389008156564,\n",
       " 0.2316546947585013,\n",
       " 0.23593682059451848,\n",
       " 0.2416769587687746,\n",
       " 0.24505876621252087,\n",
       " 0.25117142877426546,\n",
       " 0.2555515732083623,\n",
       " 0.25743590313094167,\n",
       " 0.2595068868306485,\n",
       " 0.2629018462042212,\n",
       " 0.265097336852991,\n",
       " 0.2683672227533139,\n",
       " 0.272775406440523,\n",
       " 0.2755703266657169,\n",
       " 0.2786348354428837,\n",
       " 0.27989994241732985,\n",
       " 0.2812130850851261,\n",
       " 0.2845478908842909,\n",
       " 0.2879122705662842,\n",
       " 0.2901877681057603,\n",
       " 0.2930806869668612,\n",
       " 0.2960095178612595,\n",
       " 0.2985395885556872,\n",
       " 0.30087019580071006,\n",
       " 0.30459010450423185,\n",
       " 0.3068567219113827,\n",
       " 0.3092749462121558,\n",
       " 0.3110899711913522,\n",
       " 0.31308765919413983,\n",
       " 0.3158123439591902,\n",
       " 0.317836140139793,\n",
       " 0.3196662226018483,\n",
       " 0.3217779591711325,\n",
       " 0.3234323148147966,\n",
       " 0.3261955702858067,\n",
       " 0.3288570835986322,\n",
       " 0.33132257959948597,\n",
       " 0.3343054754579834,\n",
       " 0.3351316806077851,\n",
       " 0.3376844222305396,\n",
       " 0.33962405987435174,\n",
       " 0.3414041715269138,\n",
       " 0.34289185478860307,\n",
       " 0.34492879687243316,\n",
       " 0.3454464204529566,\n",
       " 0.34734310577424665,\n",
       " 0.34937097436246256,\n",
       " 0.3512425816886101,\n",
       " 0.35195184083055175,\n",
       " 0.35204433370183785,\n",
       " 0.3538584703780645,\n",
       " 0.3550264167852828,\n",
       " 0.35668555302500105,\n",
       " 0.35895512398393237,\n",
       " 0.35963736168870697,\n",
       " 0.3609013064489144,\n",
       " 0.36192239351390587,\n",
       " 0.3627138850278637,\n",
       " 0.3640757689851577,\n",
       " 0.36568726407015495,\n",
       " 0.36665852489290107,\n",
       " 0.3685376677370238,\n",
       " 0.3697006356304089,\n",
       " 0.37113947107074385,\n",
       " 0.3724793310504937,\n",
       " 0.37284941613189315,\n",
       " 0.37446898476788015,\n",
       " 0.3758195234405777,\n",
       " 0.3777209040562831,\n",
       " 0.3792322933665917,\n",
       " 0.3797387287979901,\n",
       " 0.38107305164621774,\n",
       " 0.382871072334415,\n",
       " 0.3847128759137832,\n",
       " 0.3861961194174095,\n",
       " 0.3862036476001357]"
      ]
     },
     "execution_count": 14,
     "metadata": {},
     "output_type": "execute_result"
    }
   ],
   "source": [
    "error_rate"
   ]
  },
  {
   "cell_type": "code",
   "execution_count": 15,
   "id": "b908f3af",
   "metadata": {},
   "outputs": [
    {
     "data": {
      "text/plain": [
       "[<matplotlib.lines.Line2D at 0x1781e43de10>]"
      ]
     },
     "execution_count": 15,
     "metadata": {},
     "output_type": "execute_result"
    },
    {
     "data": {
      "image/png": "[encoded data removed]",
      "text/plain": [
       "<Figure size 640x480 with 1 Axes>"
      ]
     },
     "metadata": {},
     "output_type": "display_data"
    }
   ],
   "source": [
    "plt.plot(range(1,100),error_rate,color=\"red\")"
   ]
  }
 ],
 "metadata": {
  "kernelspec": {
   "display_name": "Python 3 (ipykernel)",
   "language": "python",
   "name": "python3"
  },
  "language_info": {
   "codemirror_mode": {
    "name": "ipython",
    "version": 3
   },
   "file_extension": ".py",
   "mimetype": "text/x-python",
   "name": "python",
   "nbconvert_exporter": "python",
   "pygments_lexer": "ipython3",
   "version": "3.11.5"
  }
 },
 "nbformat": 4,
 "nbformat_minor": 5
}
